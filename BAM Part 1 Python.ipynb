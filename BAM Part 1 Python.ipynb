{
 "cells": [
  {
   "cell_type": "code",
   "execution_count": 3,
   "id": "f5daa79c",
   "metadata": {},
   "outputs": [],
   "source": [
    "import pandas as pd\n",
    "\n",
    "# Load the Excel file\n",
    "file_path = \"BAM_ApplicationTest.xlsx\"\n",
    "xls = pd.ExcelFile(file_path)"
   ]
  },
  {
   "cell_type": "code",
   "execution_count": 4,
   "id": "c3584f65",
   "metadata": {},
   "outputs": [
    {
     "data": {
      "text/plain": [
       "['Bed Cleans', 'EVS Team Members']"
      ]
     },
     "execution_count": 4,
     "metadata": {},
     "output_type": "execute_result"
    }
   ],
   "source": [
    "# Display sheet names to understand the structure of the file\n",
    "xls.sheet_names\n"
   ]
  },
  {
   "cell_type": "code",
   "execution_count": 7,
   "id": "a098dee0",
   "metadata": {},
   "outputs": [
    {
     "name": "stdout",
     "output_type": "stream",
     "text": [
      "Bed Cleans Columns: Index(['TotalRows', 'Unnamed: 1', 'Unnamed: 2', 'Unnamed: 3', 'Unnamed: 4',\n",
      "       'Unnamed: 5', 'Unnamed: 6', 'Unnamed: 7'],\n",
      "      dtype='object')\n",
      "EVS Team Members Columns: Index(['Employee ID', 'Name'], dtype='object')\n",
      "             TotalRows             Unnamed: 1           Unnamed: 2  \\\n",
      "0    Total Jobs: 52575                    NaN                  NaN   \n",
      "1                  NaN                    NaN                  NaN   \n",
      "2  Bed Clean Requested  Bed Clean In Progress  Bed Clean Completed   \n",
      "3  2017-07-30 00:36:00    2017-07-30 00:39:00  2017-07-30 00:56:00   \n",
      "4  2017-07-29 23:44:00    2017-07-29 23:52:00  2017-07-30 00:43:00   \n",
      "\n",
      "                    Unnamed: 3 Unnamed: 4  \\\n",
      "0                          NaN        NaN   \n",
      "1                          NaN        NaN   \n",
      "2                    Unit Name     Campus   \n",
      "3  4NI NEONATAL INTENSIVE CARE    IU Ball   \n",
      "4    NNBN PP (Newborn Nursery)   IU North   \n",
      "\n",
      "                               Unnamed: 5  Unnamed: 6       Unnamed: 7  \n",
      "0                                     NaN         NaN              NaN  \n",
      "1                                     NaN         NaN              NaN  \n",
      "2                               Room Name  Room ADTID  EVS Employee ID  \n",
      "3  4NI NEONATAL INTENSIVE CARE Room L0934      L0934P              124  \n",
      "4    NNBN PP (Newborn Nursery) Room NC419      NC419P              101  \n",
      "   Employee ID               Name\n",
      "0          123   Alida Cinnamon  \n",
      "1          103      Arlen Motta  \n",
      "2          120  Arthur Clemente  \n",
      "3          114    Candy Dorothy  \n",
      "4          120    Carisa Engler  \n"
     ]
    }
   ],
   "source": [
    "import pandas as pd\n",
    "\n",
    "# Load specific sheets into DataFrames\n",
    "bed_cleans_df = pd.read_excel(xls, sheet_name=\"Bed Cleans\")\n",
    "evs_team_df = pd.read_excel(xls, sheet_name=\"EVS Team Members\")\n",
    "\n",
    "# Display column names to understand data structure\n",
    "print(\"Bed Cleans Columns:\", bed_cleans_df.columns)\n",
    "print(\"EVS Team Members Columns:\", evs_team_df.columns)\n",
    "\n",
    "# Display first few rows of each DataFrame\n",
    "print(bed_cleans_df.head())\n",
    "print(evs_team_df.head())\n"
   ]
  },
  {
   "cell_type": "code",
   "execution_count": 2,
   "id": "9817e785",
   "metadata": {},
   "outputs": [
    {
     "name": "stdout",
     "output_type": "stream",
     "text": [
      "Unit Name\n",
      "5B Medical     85.132963\n",
      "C5 Surgical    78.340017\n",
      "Name: Cleaning Duration (min), dtype: float64\n"
     ]
    }
   ],
   "source": [
    "import pandas as pd\n",
    "\n",
    "# Load data\n",
    "df = pd.read_excel(\"BAM_ApplicationTest.xlsx\", sheet_name=\"Bed Cleans\", skiprows=3, \n",
    "                   usecols=[0, 2, 3, 4])  # Load only relevant columns\n",
    "\n",
    "# Rename columns\n",
    "df.columns = [\"Bed Clean Requested\", \"Bed Clean Completed\", \"Unit Name\", \"Campus\"]\n",
    "\n",
    "# Drop missing values and convert timestamps\n",
    "df = df.dropna(subset=[\"Bed Clean Requested\", \"Bed Clean Completed\"])\n",
    "df[[\"Bed Clean Requested\", \"Bed Clean Completed\"]] = df[[\"Bed Clean Requested\", \"Bed Clean Completed\"]].apply(pd.to_datetime)\n",
    "\n",
    "# Filter for target units and calculate cleaning time\n",
    "df = df[df[\"Unit Name\"].isin([\"5B Medical\", \"C5 Surgical\"])]\n",
    "df[\"Cleaning Duration (min)\"] = (df[\"Bed Clean Completed\"] - df[\"Bed Clean Requested\"]).dt.total_seconds() / 60\n",
    "\n",
    "# Compute and print average cleaning time\n",
    "print(df.groupby(\"Unit Name\")[\"Cleaning Duration (min)\"].mean())\n"
   ]
  },
  {
   "cell_type": "code",
   "execution_count": null,
   "id": "eddba08a",
   "metadata": {},
   "outputs": [],
   "source": []
  }
 ],
 "metadata": {
  "kernelspec": {
   "display_name": "Python 3 (ipykernel)",
   "language": "python",
   "name": "python3"
  },
  "language_info": {
   "codemirror_mode": {
    "name": "ipython",
    "version": 3
   },
   "file_extension": ".py",
   "mimetype": "text/x-python",
   "name": "python",
   "nbconvert_exporter": "python",
   "pygments_lexer": "ipython3",
   "version": "3.10.9"
  }
 },
 "nbformat": 4,
 "nbformat_minor": 5
}
